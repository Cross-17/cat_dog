{
 "cells": [
  {
   "cell_type": "code",
   "execution_count": 1,
   "metadata": {
    "collapsed": false
   },
   "outputs": [
    {
     "name": "stderr",
     "output_type": "stream",
     "text": [
      "Using TensorFlow backend.\n"
     ]
    }
   ],
   "source": [
    "import numpy as np \n",
    "import pandas as pd \n",
    "\n",
    "from subprocess import check_output\n",
    "import os,random\n",
    "import numpy as np\n",
    "import pandas as pd\n",
    "from PIL import Image\n",
    "\n",
    "from keras.models import Sequential\n",
    "from keras.layers import Input, Dropout, Flatten, Convolution2D, MaxPooling2D, Dense, Activation\n",
    "from keras.optimizers import RMSprop\n",
    "from keras.callbacks import ModelCheckpoint, Callback, EarlyStopping\n",
    "from keras.utils import np_utils\n",
    "\n"
   ]
  },
  {
   "cell_type": "code",
   "execution_count": 2,
   "metadata": {
    "collapsed": false
   },
   "outputs": [
    {
     "name": "stdout",
     "output_type": "stream",
     "text": [
      "Processed 0 of 25000\n",
      "Processed 5000 of 25000\n",
      "Processed 10000 of 25000\n",
      "Processed 15000 of 25000\n",
      "Processed 20000 of 25000\n",
      "Processed 0 of 12500\n",
      "Processed 5000 of 12500\n",
      "Processed 10000 of 12500\n",
      "Train shape: (25000, 1, 32, 32)\n",
      "Test shape: (12500, 1, 32, 32)\n"
     ]
    }
   ],
   "source": [
    "TRAIN_DIR = 'train/'\n",
    "TEST_DIR = 'test/'\n",
    "\n",
    "ROWS = 32\n",
    "COLS = 32\n",
    "CHANNELS = 1\n",
    "\n",
    "train_images = [TRAIN_DIR+i for i in os.listdir(TRAIN_DIR)] \n",
    "\n",
    "\n",
    "test_images =  [TEST_DIR+i for i in os.listdir(TEST_DIR)]\n",
    "\n",
    "#read image and reshape it to 32x32\n",
    "def read_image(file_path):\n",
    "    img = Image.open(file_path)\n",
    "    img = img.resize((ROWS,COLS))\n",
    "    pdata = img.getdata()\n",
    "    sdata = []\n",
    "    for pixil in pdata:\n",
    "        Gray = (pixil[0] + pixil[1] + pixil[2])/3\n",
    "        sdata.append(Gray)\n",
    "    return np.asarray(sdata).reshape(32,32)\n",
    "\n",
    "##read all image\n",
    "def prep_data(images):\n",
    "    count = len(images)\n",
    "    data = np.ndarray((count, CHANNELS, ROWS, COLS), dtype=np.uint8)\n",
    "\n",
    "    for i, image_file in enumerate(images):\n",
    "        image = read_image(image_file)\n",
    "        data[i] = image.T\n",
    "        if i%5000 == 0: print('Processed {} of {}'.format(i, count))\n",
    "    \n",
    "    return data\n",
    "\n",
    "train = prep_data(train_images)\n",
    "test = prep_data(test_images)\n",
    "\n",
    "print(\"Train shape: {}\".format(train.shape))\n",
    "print(\"Test shape: {}\".format(test.shape))\n"
   ]
  },
  {
   "cell_type": "code",
   "execution_count": 3,
   "metadata": {
    "collapsed": false
   },
   "outputs": [
    {
     "name": "stdout",
     "output_type": "stream",
     "text": [
      "('Training matrix shape', (19999, 32, 32, 1))\n",
      "('Testing matrix shape', (12500, 32, 32, 1))\n"
     ]
    },
    {
     "name": "stderr",
     "output_type": "stream",
     "text": [
      "/Users/Crossbell/anaconda/lib/python2.7/site-packages/keras/models.py:654: UserWarning: The \"show_accuracy\" argument is deprecated, instead you should pass the \"accuracy\" metric to the model at compile time:\n",
      "`model.compile(optimizer, loss, metrics=[\"accuracy\"])`\n",
      "  warnings.warn('The \"show_accuracy\" argument is deprecated, '\n"
     ]
    },
    {
     "name": "stdout",
     "output_type": "stream",
     "text": [
      "Train on 19999 samples, validate on 5000 samples\n",
      "Epoch 1/8\n",
      "19999/19999 [==============================] - 22s - loss: 0.6341 - acc: 0.6433 - val_loss: 0.7400 - val_acc: 0.5690\n",
      "Epoch 2/8\n",
      "19999/19999 [==============================] - 21s - loss: 0.5755 - acc: 0.7018 - val_loss: 0.8998 - val_acc: 0.4530\n",
      "Epoch 3/8\n",
      "19999/19999 [==============================] - 21s - loss: 0.5313 - acc: 0.7411 - val_loss: 0.5340 - val_acc: 0.7666\n",
      "Epoch 4/8\n",
      "19999/19999 [==============================] - 22s - loss: 0.5056 - acc: 0.7584 - val_loss: 0.6328 - val_acc: 0.6806\n",
      "Epoch 5/8\n",
      "19999/19999 [==============================] - 21s - loss: 0.4826 - acc: 0.7715 - val_loss: 0.5869 - val_acc: 0.7222\n",
      "Epoch 6/8\n",
      "19999/19999 [==============================] - 24s - loss: 0.4617 - acc: 0.7875 - val_loss: 0.6942 - val_acc: 0.6398\n",
      "Epoch 7/8\n",
      "19999/19999 [==============================] - 22s - loss: 0.4427 - acc: 0.7965 - val_loss: 0.6473 - val_acc: 0.6764\n",
      "Epoch 8/8\n",
      "19999/19999 [==============================] - 22s - loss: 0.4311 - acc: 0.8013 - val_loss: 0.8234 - val_acc: 0.5758\n",
      "12480/12500 [============================>.] - ETA: 0s"
     ]
    }
   ],
   "source": [
    "# get labels 1 means dog, 0 means cat\n",
    "labels = []\n",
    "for i in train_images:\n",
    "    if 'dog' in i:\n",
    "        labels.append(1)\n",
    "    else:\n",
    "        labels.append(0)\n",
    "#test,train,valid dataset\n",
    "train = train.reshape(-1, 32,32,1)\n",
    "test = test.reshape(-1, 32,32,1)\n",
    "X_train = train.astype('float32')\n",
    "X_test = test.astype('float32')\n",
    "X_train /= 255\n",
    "X_test /= 255\n",
    "Y_train=labels\n",
    "\n",
    "X_valid = X_train[:5000,:,:,:]\n",
    "Y_valid =   Y_train[:5000]\n",
    "X_train = X_train[5001:25000,:,:,:]\n",
    "Y_train  = Y_train[5001:25000]\n",
    "\n",
    "print(\"Training matrix shape\", X_train.shape)\n",
    "print(\"Testing matrix shape\", X_test.shape)\n",
    "#model\n",
    "model = Sequential()\n",
    "model.add(Convolution2D(16, 3, 3, border_mode='same', input_shape=(ROWS, COLS, CHANNELS), activation='relu'))\n",
    "model.add(MaxPooling2D(pool_size=(2, 2)))\n",
    "model.add(Convolution2D(32, 3, 3, border_mode='same', activation='relu'))\n",
    "model.add(MaxPooling2D(pool_size=(2, 2)))\n",
    "model.add(Flatten())\n",
    "model.add(Dense(100, activation='relu'))\n",
    "model.add(Dropout(0.5))\n",
    "model.add(Dense(100, activation='relu'))\n",
    "model.add(Dropout(0.5))\n",
    "model.add(Dense(1))\n",
    "model.add(Activation('sigmoid'))\n",
    "                                 \n",
    "model.compile(loss='binary_crossentropy', optimizer='adam',metrics=['accuracy'])\n",
    "\n",
    "model.fit(X_train, Y_train,\n",
    "          batch_size=128, nb_epoch=8,\n",
    "          show_accuracy=True, verbose=1,\n",
    "          validation_data=(X_valid, Y_valid))\n",
    "          \n",
    "submission = model.predict_proba(X_test, verbose=1)\n",
    "test_id = range(1,12501)\n",
    "predictions_df = pd.DataFrame({'id': test_id, 'label': submission[:,0]})"
   ]
  },
  {
   "cell_type": "code",
   "execution_count": 4,
   "metadata": {
    "collapsed": false
   },
   "outputs": [
    {
     "name": "stdout",
     "output_type": "stream",
     "text": [
      "[[ 0.80667293]\n",
      " [ 0.2641052 ]\n",
      " [ 0.73247874]\n",
      " ..., \n",
      " [ 0.81254953]\n",
      " [ 0.14674634]\n",
      " [ 0.88959718]]\n"
     ]
    }
   ],
   "source": [
    "print submission"
   ]
  },
  {
   "cell_type": "code",
   "execution_count": 5,
   "metadata": {
    "collapsed": true
   },
   "outputs": [],
   "source": [
    "img = Image.open(\"test/1.jpg\")\n",
    "img.show()"
   ]
  },
  {
   "cell_type": "code",
   "execution_count": 6,
   "metadata": {
    "collapsed": false
   },
   "outputs": [
    {
     "data": {
      "image/jpeg": "[encoded data removed]",
      "text/plain": [
       "<IPython.core.display.Image object>"
      ]
     },
     "metadata": {},
     "output_type": "display_data"
    },
    {
     "name": "stdout",
     "output_type": "stream",
     "text": [
      "[ 0.2641052]\n"
     ]
    }
   ],
   "source": [
    "from IPython.display import display ,Image\n",
    "display(Image(filename=\"test/1.jpg\"))\n",
    "print submission[1]"
   ]
  },
  {
   "cell_type": "code",
   "execution_count": null,
   "metadata": {
    "collapsed": true
   },
   "outputs": [],
   "source": []
  }
 ],
 "metadata": {
  "anaconda-cloud": {},
  "kernelspec": {
   "display_name": "Python [conda root]",
   "language": "python",
   "name": "conda-root-py"
  },
  "language_info": {
   "codemirror_mode": {
    "name": "ipython",
    "version": 2
   },
   "file_extension": ".py",
   "mimetype": "text/x-python",
   "name": "python",
   "nbconvert_exporter": "python",
   "pygments_lexer": "ipython2",
   "version": "2.7.12"
  }
 },
 "nbformat": 4,
 "nbformat_minor": 1
}
